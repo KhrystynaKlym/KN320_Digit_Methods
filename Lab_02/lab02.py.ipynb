{
 "cells": [
  {
   "attachments": {},
   "cell_type": "markdown",
   "metadata": {},
   "source": [
    "### Структуровані масиви даних"
   ]
  },
  {
   "cell_type": "code",
   "execution_count": 16,
   "metadata": {},
   "outputs": [
    {
     "name": "stdout",
     "output_type": "stream",
     "text": [
      "\n",
      ">>>>> Масив - це структурований тип даних, значення елементів якого мають лише один тип, наприклад тільки цілі числа, тільки рядки та ін. \n",
      "У мові Python масиви подібні до вбудованого структурованого типу даних, який має назву \"список\" (list). \n",
      "\n",
      "!!!Принципова різниця між масивом і списком полягає в тому, що у списку елементи можуть мати різні типи, а в масиві - тільки один тип. \n",
      "\n"
     ]
    }
   ],
   "source": [
    "message=\"\"\"Масив - це структурований тип даних, значення елементів якого мають лише один тип, наприклад тільки цілі числа, тільки рядки та ін. \n",
    "У мові Python масиви подібні до вбудованого структурованого типу даних, який має назву \"список\" (list). \n",
    "\n",
    "!!!Принципова різниця між масивом і списком полягає в тому, що у списку елементи можуть мати різні типи, а в масиві - тільки один тип.\"\"\"\n",
    "def homework(message):\n",
    "   print(\"\\n>>>>>\",message, \"\\n\")\n",
    "import numpy as np\n",
    "homework(message)"
   ]
  },
  {
   "attachments": {},
   "cell_type": "markdown",
   "metadata": {},
   "source": [
    "### Визначення однорідного масиву"
   ]
  },
  {
   "cell_type": "code",
   "execution_count": 44,
   "metadata": {},
   "outputs": [
    {
     "name": "stdout",
     "output_type": "stream",
     "text": [
      "Отриманий масив має вигляд:\n",
      "array([[ 3,  8,  9],\n",
      "       [ 1, -7,  0],\n",
      "       [ 4, 12,  4]], dtype=int8)\n",
      "Отриманий масив має вигляд:\n",
      "array([[ 3.4,  8.7,  9.9],\n",
      "       [ 1.1, -7.8, -0.7],\n",
      "       [ 4.1, 12.3,  4.8]], dtype=float16)\n",
      "!!!HOMEWORK!!!\n",
      "Функція repr - повертає рядок, що містить представлення об’єкта для друку; \n",
      "це рядок, взятий в прямокутні дужки, який містить назву типу об’єкта разом із додатковою інформацією, \n",
      "яка часто включає ім’я та адресу об’єкта (у нашому випадку масив array із даними типу dtype=int8 та dtype=float16). \n",
      "Різниця між масивами A i B:\n",
      "- масив А містить цілі числа (роміром 1 байт) в діапазоні від -128 по 127;\n",
      "- масив В містить числа з плаваючою комою (розміром 2 байти) половинної точності (1 біт знаку, 5 біт експоненти, 10 біт мантиси)\n"
     ]
    }
   ],
   "source": [
    "lst = [ [3.4, 8.7, 9.9], \n",
    "        [1.1, -7.8, -0.7],\n",
    "        [4.1, 12.3, 4.8] ]\n",
    "A = np.array(lst, dtype=np.int8)\n",
    "print(f\"Отриманий масив має вигляд:\\n{repr(A)}\")\n",
    "B = np.array(lst, dtype=np.float16)\n",
    "print(f\"Отриманий масив має вигляд:\\n{repr(B)}\")\n",
    "print(\"\"\"!!!HOMEWORK!!!\n",
    "Функція repr - повертає рядок, що містить представлення об’єкта для друку; \n",
    "це рядок, взятий в прямокутні дужки, який містить назву типу об’єкта разом із додатковою інформацією, \n",
    "яка часто включає ім’я та адресу об’єкта (у нашому випадку масив array із даними типу dtype=int8 та dtype=float16). \n",
    "Різниця між масивами A i B:\n",
    "- масив А містить цілі числа (роміром 1 байт) в діапазоні від -128 по 127;\n",
    "- масив В містить числа з плаваючою комою (розміром 2 байти) половинної точності (1 біт знаку, 5 біт експоненти, 10 біт мантиси)\"\"\")"
   ]
  },
  {
   "attachments": {},
   "cell_type": "markdown",
   "metadata": {},
   "source": [
    "### Задаємо свій тип даних"
   ]
  },
  {
   "cell_type": "code",
   "execution_count": 35,
   "metadata": {},
   "outputs": [
    {
     "name": "stdout",
     "output_type": "stream",
     "text": [
      "Отриманий масив має вигляд:\n",
      "[('Khrystyna', 'Klym', '0970000001') ('Olga', 'Sluk', '0970000002')\n",
      " ('Volodymyr', 'Diakiv', '0970000003') ('Dmytro', 'Vlokh', '0970000004')]\n",
      "\n",
      "Доступитись до певної колонки тепер можна за її іменем.\n",
      "Наприклад, виведемо колонку з номерами телефонів: ['0970000001' '0970000002' '0970000003' '0970000004']\n",
      "\n",
      "!!!HOMEWORK!!!\n",
      "Виведемо всі імена присутні в даному масиві: ['Khrystyna' 'Olga' 'Volodymyr' 'Dmytro']\n",
      "Виведемо всі прізвища присутні в даному масиві: ['Klym' 'Sluk' 'Diakiv' 'Vlokh']\n",
      "Виведемо імена та прізвища присутні в даному масиві: ['Khrystyna' 'Olga' 'Volodymyr' 'Dmytro'] ['Klym' 'Sluk' 'Diakiv' 'Vlokh']\n",
      "Виведемо прізвища та номери телефонів присутні в даному масиві: ['Klym' 'Sluk' 'Diakiv' 'Vlokh'] ['0970000001' '0970000002' '0970000003' '0970000004']\n"
     ]
    }
   ],
   "source": [
    "dt = np.dtype([('name', np.compat.unicode, 20), ('surname', np.compat.unicode, 20), ('phone', np.compat.unicode, 20)])\n",
    "arr = [\n",
    "    (\"Khrystyna\", \"Klym\", '0970000001'), \n",
    "    (\"Olga\", \"Sluk\", '0970000002'),\n",
    "    (\"Volodymyr\", \"Diakiv\", '0970000003'),\n",
    "    (\"Dmytro\", \"Vlokh\", '0970000004')]\n",
    "C = np.array(arr, dtype=dt)\n",
    "print(f\"Отриманий масив має вигляд:\\n{C}\")\n",
    "print(f\"\\nДоступитись до певної колонки тепер можна за її іменем.\")\n",
    "print(f\"Наприклад, виведемо колонку з номерами телефонів: {C['phone']}\")\n",
    "print(\"\\n!!!HOMEWORK!!!\")\n",
    "print(f\"Виведемо всі імена присутні в даному масиві: {C['name']}\")\n",
    "print(f\"Виведемо всі прізвища присутні в даному масиві: {C['surname']}\")\n",
    "print(f\"Виведемо імена та прізвища присутні в даному масиві: {C['name']} {C['surname']}\")\n",
    "print(f\"Виведемо прізвища та номери телефонів присутні в даному масиві: {C['surname']} {C['phone']}\")"
   ]
  },
  {
   "attachments": {},
   "cell_type": "markdown",
   "metadata": {},
   "source": [
    "### Запис та зчитування з файлу, формат CSV"
   ]
  },
  {
   "cell_type": "code",
   "execution_count": 53,
   "metadata": {},
   "outputs": [
    {
     "name": "stdout",
     "output_type": "stream",
     "text": [
      "Вихідний масив:  [('Khrystyna', 'Klym', '0970000001') ('Olga', 'Sluk', '0970000002')\n",
      " ('Volodymyr', 'Diakiv', '0970000003') ('Dmytro', 'Vlokh', '0970000004')]\n",
      "\n",
      "Прочитаний з файлу:  [('Khrystyna', 'Klym', '0970000001') ('Olga', 'Sluk', '0970000002')\n",
      " ('Volodymyr', 'Diakiv', '0970000003') ('Dmytro', 'Vlokh', '0970000004')]\n",
      "\n",
      "Записуємо у CSV файл temp.csv значення: [('Khrystyna', 'Klym', '0970000001') ('Olga', 'Sluk', '0970000002')\n",
      " ('Volodymyr', 'Diakiv', '0970000003') ('Dmytro', 'Vlokh', '0970000004')]\n",
      "\n",
      "Перевіряємо чи файл temp.csv створився: ['lab02.py.ipynb', 'my_mass.npz', 'README.md', 'Screenshots', 'temp.csv']\n",
      "\n",
      "Читаємо файл за допомогою оператора with та методу readlines\n",
      "Прочитаний файл:\n",
      " ['# name, surname, phone\\n', 'Khrystyna,Klym,0970000001\\n', 'Olga,Sluk,0970000002\\n', 'Volodymyr,Diakiv,0970000003\\n', 'Dmytro,Vlokh,0970000004\\n'] \n",
      "- як бачимо - 5 елементів є стрічками <class 'str'>.\n",
      "\n",
      "Зчитане значення з файла:\n",
      " [('Khrystyna', 'Klym', '0970000001') ('Olga', 'Sluk', '0970000002')\n",
      " ('Volodymyr', 'Diakiv', '0970000003') ('Dmytro', 'Vlokh', '0970000004')], як бачимо - 4 елементи це <class 'numpy.void'> \n",
      "- вбудований клас бібліотеки numpy.\n",
      "\n",
      "Доступитись до певного елемента можна наступним чином: наприклад, ім`я першого елементу - Khrystyna\n"
     ]
    }
   ],
   "source": [
    "print(\"Вихідний масив: \", C)\n",
    "np.savez(\"my_mass.npz\", my_mass=C)\n",
    "D = np.load(\"my_mass.npz\")\n",
    "print(\"\\nПрочитаний з файлу: \", D[\"my_mass\"])\n",
    "\n",
    "filename = \"temp.csv\"\n",
    "print(f\"\\nЗаписуємо у CSV файл {filename} значення: {C}\")\n",
    "np.savetxt(filename, C, fmt=\"%s,%s,%s\", header=\"name, surname, phone\", delimiter=\",\")\n",
    "\n",
    "import os\n",
    "print(f\"\\nПеревіряємо чи файл {filename} створився: {os.listdir()}\")\n",
    "\n",
    "print(\"\\nЧитаємо файл за допомогою оператора with та методу readlines\")\n",
    "with open(filename) as f:\n",
    "    D = f.readlines()\n",
    "\n",
    "print(f\"Прочитаний файл:\\n {D} \\n- як бачимо - {len(D)} елементів є стрічками {type(D[0])}.\")\n",
    "\n",
    "D = np.genfromtxt(filename, dtype=dt, delimiter=\",\")\n",
    "print(f\"\\nЗчитане значення з файла:\\n {D}, як бачимо - {D.size} елементи це {type(D[0])} \\n- вбудований клас бібліотеки numpy.\")\n",
    "print(f\"\\nДоступитись до певного елемента можна наступним чином: наприклад, ім`я першого елементу - {D[0]['name']}\")"
   ]
  },
  {
   "cell_type": "code",
   "execution_count": 72,
   "metadata": {},
   "outputs": [
    {
     "name": "stdout",
     "output_type": "stream",
     "text": [
      "\n",
      "!!!HOMEWORK!!!\n",
      "- створила додаткові поля: `group` - назва групи; `surname` - прізвище; `phone` - номер телефону;\n",
      "- дописала свої дані до масиву (Khrystyna, Klym, KN320, 5, 0970000001); \n",
      "- зберегла та вичитала дані у файл;\n",
      "- прочитала своє ім`я з масиву.\n",
      "\n",
      "Вихідний масив:\n",
      "  [('Olga', 'Sluk', 'KN320', 5, '0970000002')\n",
      " ('Volodymyr', 'Diakiv', 'KN320', 4, '0970000003')\n",
      " ('Khrystyna', 'Klym', 'KN320', 5, '0970000001')\n",
      " ('Dmytro', 'Vlokh', 'KN320', 4, '0970000004')]\n",
      "\n",
      "Прочитаний з файлу:\n",
      "  [('Olga', 'Sluk', 'KN320', 5, '0970000002')\n",
      " ('Volodymyr', 'Diakiv', 'KN320', 4, '0970000003')\n",
      " ('Khrystyna', 'Klym', 'KN320', 5, '0970000001')\n",
      " ('Dmytro', 'Vlokh', 'KN320', 4, '0970000004')]\n",
      "\n",
      "Записуємо у CSV файл temp.csv значення:\n",
      " [('Olga', 'Sluk', 'KN320', 5, '0970000002')\n",
      " ('Volodymyr', 'Diakiv', 'KN320', 4, '0970000003')\n",
      " ('Khrystyna', 'Klym', 'KN320', 5, '0970000001')\n",
      " ('Dmytro', 'Vlokh', 'KN320', 4, '0970000004')]\n",
      "\n",
      "Перевіряємо чи файл temp.csv створився: ['lab02.py.ipynb', 'my_mass.npz', 'README.md', 'Screenshots', 'temp.csv']\n",
      "\n",
      "Читаємо файл за допомогою оператора with та методу readlines\n",
      "Прочитаний файл:\n",
      " ['# name, surname, phone\\n', 'Olga,Sluk,KN320,5,0970000002\\n', 'Volodymyr,Diakiv,KN320,4,0970000003\\n', 'Khrystyna,Klym,KN320,5,0970000001\\n', 'Dmytro,Vlokh,KN320,4,0970000004\\n'] \n",
      "- як бачимо - 5 елементів є стрічками <class 'str'>.\n",
      "\n",
      "Зчитане значення з файла:\n",
      " [('Olga', 'Sluk', 'KN320', 5, '0970000002')\n",
      " ('Volodymyr', 'Diakiv', 'KN320', 4, '0970000003')\n",
      " ('Khrystyna', 'Klym', 'KN320', 5, '0970000001')\n",
      " ('Dmytro', 'Vlokh', 'KN320', 4, '0970000004')], як бачимо - 4 елементи це <class 'numpy.void'> \n",
      "- вбудований клас бібліотеки numpy.\n",
      "\n",
      "Зчитала з файлу своє ім`я: - Khrystyna\n",
      "\n",
      "Зчитала з файлу своє прізвище, групу та оцінку: - Klym, KN320, 5\n",
      "\n",
      "Зчитала з файлу своє ім`я та номер телефону: - Khrystyna, 0970000001\n"
     ]
    }
   ],
   "source": [
    "print(\"\"\"\\n!!!HOMEWORK!!!\n",
    "- створила додаткові поля: `group` - назва групи; `surname` - прізвище; `phone` - номер телефону;\n",
    "- дописала свої дані до масиву (Khrystyna, Klym, KN320, 5, 0970000001); \n",
    "- зберегла та вичитала дані у файл;\n",
    "- прочитала своє ім`я з масиву.\\n\"\"\")\n",
    "\n",
    "dt = np.dtype([('name', np.compat.unicode, 20), ('surname', np.compat.unicode, 20), ('group', np.compat.unicode, 20), \n",
    "('mark', np.int8), ('phone', np.compat.unicode, 20)])\n",
    "arr = [\n",
    "    (\"Olga\", \"Sluk\", 'KN320', 5, '0970000002'),\n",
    "    (\"Volodymyr\", \"Diakiv\", 'KN320', 4, '0970000003'),\n",
    "    (\"Khrystyna\", \"Klym\", 'KN320', 5, '0970000001'),\n",
    "    (\"Dmytro\", \"Vlokh\", 'KN320', 4, '0970000004')]\n",
    "C = np.array(arr, dtype=dt)\n",
    "\n",
    "print(\"Вихідний масив:\\n \", C)\n",
    "np.savez(\"my_mass.npz\", my_mass=C)\n",
    "D = np.load(\"my_mass.npz\")\n",
    "print(\"\\nПрочитаний з файлу:\\n \", D[\"my_mass\"])\n",
    "filename = \"temp.csv\"\n",
    "print(f\"\\nЗаписуємо у CSV файл {filename} значення:\\n {C}\")\n",
    "np.savetxt(filename, C, fmt=\"%s,%s,%s,%d,%s\", header=\"name, surname, phone\", delimiter=\",\")\n",
    "import os\n",
    "print(f\"\\nПеревіряємо чи файл {filename} створився: {os.listdir()}\")\n",
    "print(\"\\nЧитаємо файл за допомогою оператора with та методу readlines\")\n",
    "with open(filename) as f:\n",
    "    D = f.readlines()\n",
    "print(f\"Прочитаний файл:\\n {D} \\n- як бачимо - {len(D)} елементів є стрічками {type(D[0])}.\")\n",
    "D = np.genfromtxt(filename, dtype=dt, delimiter=\",\")\n",
    "print(f\"\\nЗчитане значення з файла:\\n {D}, як бачимо - {D.size} елементи це {type(D[0])} \\n- вбудований клас бібліотеки numpy.\")\n",
    "print(f\"\\nЗчитала з файлу своє ім`я: - {D[2]['name']}\")\n",
    "print(f\"\\nЗчитала з файлу своє прізвище, групу та оцінку: - {D[2]['surname']}, {D[2]['group']}, {D[2]['mark']}\")\n",
    "print(f\"\\nЗчитала з файлу своє ім`я та номер телефону: - {D[2]['name']}, {D[2]['phone']}\")"
   ]
  }
 ],
 "metadata": {
  "kernelspec": {
   "display_name": "Python 3",
   "language": "python",
   "name": "python3"
  },
  "language_info": {
   "codemirror_mode": {
    "name": "ipython",
    "version": 3
   },
   "file_extension": ".py",
   "mimetype": "text/x-python",
   "name": "python",
   "nbconvert_exporter": "python",
   "pygments_lexer": "ipython3",
   "version": "3.10.7"
  },
  "orig_nbformat": 4,
  "vscode": {
   "interpreter": {
    "hash": "26de051ba29f2982a8de78e945f0abaf191376122a1563185a90213a26c5da77"
   }
  }
 },
 "nbformat": 4,
 "nbformat_minor": 2
}
